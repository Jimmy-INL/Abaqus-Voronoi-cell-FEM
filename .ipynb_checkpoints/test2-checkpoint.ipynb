{
 "cells": [
  {
   "cell_type": "code",
   "execution_count": 4,
   "metadata": {},
   "outputs": [],
   "source": [
    "from scipy.spatial import Voronoi, voronoi_plot_2d\n",
    "import numpy as np\n",
    "import random \n"
   ]
  },
  {
   "cell_type": "code",
   "execution_count": 5,
   "metadata": {},
   "outputs": [
    {
     "data": {
      "text/plain": [
       "'\\npoints = np.array([[0, 0], [0, 1], [0, 2],\\n                   [1, 0], [1, 1], [1, 2],\\n                   [2, 0], [2, 1], [2, 2]])\\n'"
      ]
     },
     "execution_count": 5,
     "metadata": {},
     "output_type": "execute_result"
    }
   ],
   "source": [
    "pts = [[2,3], [1, 3], [1.5, 4], [2.5, 3], [3,1], [1.6,2], [2.7,1.5], [2,1.25], [1,1.5], [3,1.6], [3,3]]\n",
    "points = np.array(pts)\n",
    "'''\n",
    "points = np.array([[0, 0], [0, 1], [0, 2],\n",
    "                   [1, 0], [1, 1], [1, 2],\n",
    "                   [2, 0], [2, 1], [2, 2]])\n",
    "'''"
   ]
  },
  {
   "cell_type": "code",
   "execution_count": 11,
   "metadata": {},
   "outputs": [
    {
     "name": "stdout",
     "output_type": "stream",
     "text": [
      "[[0, 1], [1, 5], [7, 1], [1, 1], [5, 7], [0, 5], [3, 7], [4, 6], [2, 0], [5, 1], [0, 0], [6, 4], [6, 6], [5, 2], [0, 3], [7, 3], [5, 2], [3, 0], [6, 1], [1, 4], [2, 4], [7, 2], [4, 1], [5, 2], [5, 2], [2, 0], [5, 7], [5, 4], [3, 6], [1, 2], [5, 3], [7, 7], [6, 4], [2, 3], [6, 5], [7, 1], [2, 4], [4, 3], [2, 6], [1, 3], [5, 6], [5, 6], [3, 1], [4, 3], [4, 6], [7, 4], [5, 2], [0, 6], [6, 4], [4, 3]]\n"
     ]
    }
   ],
   "source": [
    "cords_set = []\n",
    "\n",
    "grid = []\n",
    "#Create a 8x8 grid\n",
    "for row in range(8):\n",
    "    grid.append([])\n",
    "    for col in range(8):\n",
    "        grid[row].append(\"0\")\n",
    "\n",
    "while len(cords_set) < 50:\n",
    "    x, y = 7, 0\n",
    "    while (x, y) == (7, 0): \n",
    "        x, y = random.randint(0, len(grid) - 1), random.randint(0, len(grid[0]) - 1)\n",
    "    # that will make sure we don't add (7, 0) to cords_set\n",
    "    cords_set.append([x, y])\n",
    "print(cords_set)\n",
    "\n",
    "pts = cords_set"
   ]
  },
  {
   "cell_type": "code",
   "execution_count": 18,
   "metadata": {},
   "outputs": [],
   "source": [
    "vor = Voronoi(pts, qhull_options='Qbb Qc Qx')"
   ]
  },
  {
   "cell_type": "code",
   "execution_count": 19,
   "metadata": {
    "scrolled": true
   },
   "outputs": [
    {
     "data": {
      "image/png": "[encoded data removed]",
      "text/plain": [
       "<Figure size 432x288 with 1 Axes>"
      ]
     },
     "metadata": {
      "needs_background": "light"
     },
     "output_type": "display_data"
    }
   ],
   "source": [
    "import matplotlib.pyplot as plt\n",
    "voronoi_plot_2d(vor)\n",
    "plt.show()"
   ]
  },
  {
   "cell_type": "code",
   "execution_count": 20,
   "metadata": {},
   "outputs": [
    {
     "data": {
      "text/plain": [
       "array([[ 0.        ,  2.        ],\n",
       "       [ 0.        ,  4.        ],\n",
       "       [ 0.5       ,  5.5       ],\n",
       "       [ 0.5       ,  4.5       ],\n",
       "       [ 1.5       ,  4.5       ],\n",
       "       [ 3.        ,  3.5       ],\n",
       "       [ 4.5       , -0.5       ],\n",
       "       [ 0.5       ,  3.5       ],\n",
       "       [ 0.5       ,  2.5       ],\n",
       "       [ 1.5       ,  2.5       ],\n",
       "       [ 1.5       ,  3.5       ],\n",
       "       [ 0.5       ,  1.5       ],\n",
       "       [ 0.5       ,  0.5       ],\n",
       "       [ 1.        ,  0.        ],\n",
       "       [ 6.5       ,  1.5       ],\n",
       "       [ 6.5       , -5.5       ],\n",
       "       [ 5.5       , -2.5       ],\n",
       "       [ 6.5       ,  4.5       ],\n",
       "       [ 6.5       ,  3.5       ],\n",
       "       [ 6.        ,  3.        ],\n",
       "       [ 6.        ,  7.        ],\n",
       "       [ 7.5       ,  5.5       ],\n",
       "       [ 4.5       ,  3.5       ],\n",
       "       [ 5.5       ,  3.5       ],\n",
       "       [ 5.5       ,  4.5       ],\n",
       "       [ 2.        ,  5.        ],\n",
       "       [ 1.        ,  6.        ],\n",
       "       [ 1.        ,  8.        ],\n",
       "       [ 4.5       ,  2.5       ],\n",
       "       [ 4.        ,  2.        ],\n",
       "       [ 4.5       ,  1.5       ],\n",
       "       [ 5.5       ,  1.5       ],\n",
       "       [ 6.        ,  2.        ],\n",
       "       [ 6.        ,  2.5       ],\n",
       "       [ 2.16666667,  1.83333333],\n",
       "       [ 2.5       ,  0.5       ],\n",
       "       [ 3.5       ,  0.5       ],\n",
       "       [ 2.        ,  1.5       ],\n",
       "       [ 2.        ,  1.        ],\n",
       "       [ 3.        ,  2.25      ],\n",
       "       [ 3.5       ,  2.        ],\n",
       "       [ 5.5       ,  5.5       ],\n",
       "       [ 5.5       ,  6.5       ],\n",
       "       [ 5.        ,  5.        ],\n",
       "       [ 2.5       ,  5.        ],\n",
       "       [ 2.5       ,  6.5       ],\n",
       "       [ 4.5       ,  5.        ],\n",
       "       [ 4.5       ,  6.5       ],\n",
       "       [ 4.        ,  7.        ],\n",
       "       [ 3.5       ,  6.5       ],\n",
       "       [ 3.5       ,  4.5       ]])"
      ]
     },
     "execution_count": 20,
     "metadata": {},
     "output_type": "execute_result"
    }
   ],
   "source": [
    "vor.vertices"
   ]
  },
  {
   "cell_type": "code",
   "execution_count": 21,
   "metadata": {},
   "outputs": [
    {
     "data": {
      "text/plain": [
       "[[3, 1, -1, 2],\n",
       " [9, 8, 7, 10],\n",
       " [8, 0, -1, 1, 7],\n",
       " [7, 1, 3, 4, 10],\n",
       " [12, -1, 0, 11],\n",
       " [13, -1, 12],\n",
       " [15, -1, 14],\n",
       " [20, -1, 21],\n",
       " [18, -1, 21, 17],\n",
       " [24, 17, 18, 19, 23],\n",
       " [26, 2, 3, 4, 25],\n",
       " [27, -1, 2, 26],\n",
       " [32, 31, 30, 29, 28, 33],\n",
       " [28, 33, 19, 23, 22],\n",
       " [31, 16, 6, 30],\n",
       " [32, 14, 15, 16, 31],\n",
       " [32, 33, -1, 14],\n",
       " [19, 33, -1, 18],\n",
       " [40, 36, 35, 38, 37, 34, 39],\n",
       " [39, 5, 10, 9, 34],\n",
       " [37, 11, 0, 8, 9, 34],\n",
       " [38, 13, -1, 35],\n",
       " [36, 6, 16, 15, -1, 35],\n",
       " [40, 29, 30, 6, 36],\n",
       " [38, 13, 12, 11, 37],\n",
       " [42, 20, 21, 41],\n",
       " [43, 24, 17, 21, 41],\n",
       " [45, 27, 26, 25, 44],\n",
       " [49, 50, 46, 47, 48],\n",
       " [49, 50, 44, 45],\n",
       " [46, 50, 22, 23, 24, 43],\n",
       " [47, 42, 41, 43, 46],\n",
       " [48, -1, 20, 42, 47],\n",
       " [49, 45, 27, -1, 48],\n",
       " [44, 50, 5, 10, 4, 25],\n",
       " [40, 29, 28, 22, 50, 5, 39]]"
      ]
     },
     "execution_count": 21,
     "metadata": {},
     "output_type": "execute_result"
    }
   ],
   "source": [
    "vor.regions"
   ]
  },
  {
   "cell_type": "code",
   "execution_count": 22,
   "metadata": {},
   "outputs": [
    {
     "data": {
      "text/plain": [
       "[[-1, 1],\n",
       " [-1, 2],\n",
       " [1, 3],\n",
       " [2, 3],\n",
       " [7, 8],\n",
       " [7, 10],\n",
       " [8, 9],\n",
       " [9, 10],\n",
       " [-1, 0],\n",
       " [0, 8],\n",
       " [1, 7],\n",
       " [3, 4],\n",
       " [4, 10],\n",
       " [-1, 12],\n",
       " [0, 11],\n",
       " [11, 12],\n",
       " [-1, 13],\n",
       " [12, 13],\n",
       " [-1, 14],\n",
       " [-1, 15],\n",
       " [14, 15],\n",
       " [-1, 21],\n",
       " [-1, 20],\n",
       " [20, 21],\n",
       " [-1, 18],\n",
       " [17, 21],\n",
       " [17, 18],\n",
       " [17, 24],\n",
       " [18, 19],\n",
       " [19, 23],\n",
       " [23, 24],\n",
       " [2, 26],\n",
       " [4, 25],\n",
       " [25, 26],\n",
       " [-1, 27],\n",
       " [26, 27],\n",
       " [28, 33],\n",
       " [28, 29],\n",
       " [29, 30],\n",
       " [30, 31],\n",
       " [31, 32],\n",
       " [32, 33],\n",
       " [19, 33],\n",
       " [22, 23],\n",
       " [22, 28],\n",
       " [6, 30],\n",
       " [6, 16],\n",
       " [16, 31],\n",
       " [14, 32],\n",
       " [15, 16],\n",
       " [-1, 33],\n",
       " [34, 39],\n",
       " [34, 37],\n",
       " [35, 38],\n",
       " [35, 36],\n",
       " [36, 40],\n",
       " [37, 38],\n",
       " [39, 40],\n",
       " [5, 10],\n",
       " [5, 39],\n",
       " [9, 34],\n",
       " [11, 37],\n",
       " [-1, 35],\n",
       " [13, 38],\n",
       " [6, 36],\n",
       " [29, 40],\n",
       " [20, 42],\n",
       " [21, 41],\n",
       " [41, 42],\n",
       " [24, 43],\n",
       " [41, 43],\n",
       " [25, 44],\n",
       " [27, 45],\n",
       " [44, 45],\n",
       " [49, 50],\n",
       " [46, 50],\n",
       " [46, 47],\n",
       " [47, 48],\n",
       " [48, 49],\n",
       " [44, 50],\n",
       " [45, 49],\n",
       " [22, 50],\n",
       " [43, 46],\n",
       " [42, 47],\n",
       " [-1, 48],\n",
       " [5, 50]]"
      ]
     },
     "execution_count": 22,
     "metadata": {},
     "output_type": "execute_result"
    }
   ],
   "source": [
    "vor.ridge_vertices"
   ]
  },
  {
   "cell_type": "code",
   "execution_count": 23,
   "metadata": {},
   "outputs": [
    {
     "name": "stdout",
     "output_type": "stream",
     "text": [
      "s1.Line(point1=([0.0,4.0]), point2=([0.5,4.5]))\n",
      "s1.Line(point1=([0.5,5.5]), point2=([0.5,4.5]))\n",
      "s1.Line(point1=([0.5,3.5]), point2=([0.5,2.5]))\n",
      "s1.Line(point1=([0.5,3.5]), point2=([1.5,3.5]))\n",
      "s1.Line(point1=([0.5,2.5]), point2=([1.5,2.5]))\n",
      "s1.Line(point1=([1.5,2.5]), point2=([1.5,3.5]))\n",
      "s1.Line(point1=([0.0,2.0]), point2=([0.5,2.5]))\n",
      "s1.Line(point1=([0.0,4.0]), point2=([0.5,3.5]))\n",
      "s1.Line(point1=([0.5,4.5]), point2=([1.5,4.5]))\n",
      "s1.Line(point1=([1.5,4.5]), point2=([1.5,3.5]))\n",
      "s1.Line(point1=([0.0,2.0]), point2=([0.5,1.5]))\n",
      "s1.Line(point1=([0.5,1.5]), point2=([0.5,0.5]))\n",
      "s1.Line(point1=([0.5,0.5]), point2=([1.0,0.0]))\n",
      "s1.Line(point1=([6.5,1.5]), point2=([6.5,-5.5]))\n",
      "s1.Line(point1=([6.0,7.0]), point2=([7.5,5.5]))\n",
      "s1.Line(point1=([6.5,4.5]), point2=([7.5,5.5]))\n",
      "s1.Line(point1=([6.5,4.5]), point2=([6.5,3.5]))\n",
      "s1.Line(point1=([6.5,4.5]), point2=([5.5,4.5]))\n",
      "s1.Line(point1=([6.5,3.5]), point2=([6.0,3.0]))\n",
      "s1.Line(point1=([6.0,3.0]), point2=([5.5,3.5]))\n",
      "s1.Line(point1=([5.5,3.5]), point2=([5.5,4.5]))\n",
      "s1.Line(point1=([0.5,5.5]), point2=([1.0,6.0]))\n",
      "s1.Line(point1=([1.5,4.5]), point2=([2.0,5.0]))\n",
      "s1.Line(point1=([2.0,5.0]), point2=([1.0,6.0]))\n",
      "s1.Line(point1=([1.0,6.0]), point2=([1.0,8.0]))\n",
      "s1.Line(point1=([4.5,2.5]), point2=([6.0,2.5]))\n",
      "s1.Line(point1=([4.5,2.5]), point2=([4.0,2.0]))\n",
      "s1.Line(point1=([4.0,2.0]), point2=([4.5,1.5]))\n",
      "s1.Line(point1=([4.5,1.5]), point2=([5.5,1.5]))\n",
      "s1.Line(point1=([5.5,1.5]), point2=([6.0,2.0]))\n",
      "s1.Line(point1=([6.0,2.0]), point2=([6.0,2.5]))\n",
      "s1.Line(point1=([6.0,3.0]), point2=([6.0,2.5]))\n",
      "s1.Line(point1=([4.5,3.5]), point2=([5.5,3.5]))\n",
      "s1.Line(point1=([4.5,3.5]), point2=([4.5,2.5]))\n",
      "s1.Line(point1=([4.5,-0.5]), point2=([4.5,1.5]))\n",
      "s1.Line(point1=([4.5,-0.5]), point2=([5.5,-2.5]))\n",
      "s1.Line(point1=([5.5,-2.5]), point2=([5.5,1.5]))\n",
      "s1.Line(point1=([6.5,1.5]), point2=([6.0,2.0]))\n",
      "s1.Line(point1=([6.5,-5.5]), point2=([5.5,-2.5]))\n",
      "s1.Line(point1=([2.166666666666667,1.8333333333333333]), point2=([3.0,2.25]))\n",
      "s1.Line(point1=([2.166666666666667,1.8333333333333333]), point2=([2.0,1.5]))\n",
      "s1.Line(point1=([2.5,0.5]), point2=([2.0,1.0]))\n",
      "s1.Line(point1=([2.5,0.5]), point2=([3.5,0.5]))\n",
      "s1.Line(point1=([3.5,0.5]), point2=([3.5,2.0]))\n",
      "s1.Line(point1=([2.0,1.5]), point2=([2.0,1.0]))\n",
      "s1.Line(point1=([3.0,2.25]), point2=([3.5,2.0]))\n",
      "s1.Line(point1=([3.0,3.5]), point2=([1.5,3.5]))\n",
      "s1.Line(point1=([3.0,3.5]), point2=([3.0,2.25]))\n",
      "s1.Line(point1=([1.5,2.5]), point2=([2.166666666666667,1.8333333333333333]))\n",
      "s1.Line(point1=([0.5,1.5]), point2=([2.0,1.5]))\n",
      "s1.Line(point1=([1.0,0.0]), point2=([2.0,1.0]))\n",
      "s1.Line(point1=([4.5,-0.5]), point2=([3.5,0.5]))\n",
      "s1.Line(point1=([4.0,2.0]), point2=([3.5,2.0]))\n",
      "s1.Line(point1=([6.0,7.0]), point2=([5.5,6.5]))\n",
      "s1.Line(point1=([7.5,5.5]), point2=([5.5,5.5]))\n",
      "s1.Line(point1=([5.5,5.5]), point2=([5.5,6.5]))\n",
      "s1.Line(point1=([5.5,4.5]), point2=([5.0,5.0]))\n",
      "s1.Line(point1=([5.5,5.5]), point2=([5.0,5.0]))\n",
      "s1.Line(point1=([2.0,5.0]), point2=([2.5,5.0]))\n",
      "s1.Line(point1=([1.0,8.0]), point2=([2.5,6.5]))\n",
      "s1.Line(point1=([2.5,5.0]), point2=([2.5,6.5]))\n",
      "s1.Line(point1=([3.5,6.5]), point2=([3.5,4.5]))\n",
      "s1.Line(point1=([4.5,5.0]), point2=([3.5,4.5]))\n",
      "s1.Line(point1=([4.5,5.0]), point2=([4.5,6.5]))\n",
      "s1.Line(point1=([4.5,6.5]), point2=([4.0,7.0]))\n",
      "s1.Line(point1=([4.0,7.0]), point2=([3.5,6.5]))\n",
      "s1.Line(point1=([2.5,5.0]), point2=([3.5,4.5]))\n",
      "s1.Line(point1=([2.5,6.5]), point2=([3.5,6.5]))\n",
      "s1.Line(point1=([4.5,3.5]), point2=([3.5,4.5]))\n",
      "s1.Line(point1=([5.0,5.0]), point2=([4.5,5.0]))\n",
      "s1.Line(point1=([5.5,6.5]), point2=([4.5,6.5]))\n",
      "s1.Line(point1=([3.0,3.5]), point2=([3.5,4.5]))\n"
     ]
    },
    {
     "data": {
      "image/png": "[encoded data removed]",
      "text/plain": [
       "<Figure size 432x288 with 1 Axes>"
      ]
     },
     "metadata": {
      "needs_background": "light"
     },
     "output_type": "display_data"
    }
   ],
   "source": [
    "for vpair in vor.ridge_vertices:\n",
    "    if vpair[0] >= 0 and vpair[1] >= 0:\n",
    "        v0 = vor.vertices[vpair[0]]\n",
    "        v1 = vor.vertices[vpair[1]]\n",
    "        #print(v0[0] , v0[1], v1[0] , v1[1])\n",
    "        #print(v1[0] , v1[1])\n",
    "        #print()\n",
    "        # Draw a line from v0 to v1.\n",
    "        print(\"s1.Line(point1=([\" + str(v0[0]) + \",\" + str(v0[1]) + \"]), point2=([\" + str(v1[0]) + \",\" + str(v1[1]) + \"]))\")\n",
    "        plt.plot([v0[0], v1[0]], [v0[1], v1[1]], 'k', linewidth=2)"
   ]
  },
  {
   "cell_type": "code",
   "execution_count": 62,
   "metadata": {},
   "outputs": [],
   "source": [
    "\n",
    "def voronoi_finite_polygons_2d(vor, radius=None):\n",
    "    \"\"\"\n",
    "    Reconstruct infinite voronoi regions in a 2D diagram to finite\n",
    "    regions.\n",
    "\n",
    "    Parameters\n",
    "    ----------\n",
    "    vor : Voronoi\n",
    "        Input diagram\n",
    "    radius : float, optional\n",
    "        Distance to 'points at infinity'.\n",
    "\n",
    "    Returns\n",
    "    -------\n",
    "    regions : list of tuples\n",
    "        Indices of vertices in each revised Voronoi regions.\n",
    "    vertices : list of tuples\n",
    "        Coordinates for revised Voronoi vertices. Same as coordinates\n",
    "        of input vertices, with 'points at infinity' appended to the\n",
    "        end.\n",
    "\n",
    "    \"\"\"\n",
    "\n",
    "    if vor.points.shape[1] != 2:\n",
    "        raise ValueError(\"Requires 2D input\")\n",
    "\n",
    "    new_regions = []\n",
    "    new_vertices = vor.vertices.tolist()\n",
    "\n",
    "    center = vor.points.mean(axis=0)\n",
    "    if radius is None:\n",
    "        radius = vor.points.ptp().max()\n",
    "\n",
    "    # Construct a map containing all ridges for a given point\n",
    "    all_ridges = {}\n",
    "    for (p1, p2), (v1, v2) in zip(vor.ridge_points, vor.ridge_vertices):\n",
    "        all_ridges.setdefault(p1, []).append((p2, v1, v2))\n",
    "        all_ridges.setdefault(p2, []).append((p1, v1, v2))\n",
    "\n",
    "    # Reconstruct infinite regions\n",
    "    for p1, region in enumerate(vor.point_region):\n",
    "        vertices = vor.regions[region]\n",
    "\n",
    "        if all(v >= 0 for v in vertices):\n",
    "            # finite region\n",
    "            new_regions.append(vertices)\n",
    "            continue\n",
    "\n",
    "        # reconstruct a non-finite region\n",
    "        ridges = all_ridges[p1]\n",
    "        new_region = [v for v in vertices if v >= 0]\n",
    "\n",
    "        for p2, v1, v2 in ridges:\n",
    "            if v2 < 0:\n",
    "                v1, v2 = v2, v1\n",
    "            if v1 >= 0:\n",
    "                # finite ridge: already in the region\n",
    "                continue\n",
    "\n",
    "            # Compute the missing endpoint of an infinite ridge\n",
    "\n",
    "            t = vor.points[p2] - vor.points[p1] # tangent\n",
    "            t /= np.linalg.norm(t)\n",
    "            n = np.array([-t[1], t[0]])  # normal\n",
    "\n",
    "            midpoint = vor.points[[p1, p2]].mean(axis=0)\n",
    "            direction = np.sign(np.dot(midpoint - center, n)) * n\n",
    "            far_point = vor.vertices[v2] + direction * radius\n",
    "\n",
    "            new_region.append(len(new_vertices))\n",
    "            new_vertices.append(far_point.tolist())\n",
    "\n",
    "        # sort region counterclockwise\n",
    "        vs = np.asarray([new_vertices[v] for v in new_region])\n",
    "        c = vs.mean(axis=0)\n",
    "        angles = np.arctan2(vs[:,1] - c[1], vs[:,0] - c[0])\n",
    "        new_region = np.array(new_region)[np.argsort(angles)]\n",
    "\n",
    "        # finish\n",
    "        new_regions.append(new_region.tolist())\n",
    "\n",
    "    #return new_regions, new_vertices\n",
    "    return new_regions, np.asarray(new_vertices)"
   ]
  },
  {
   "cell_type": "code",
   "execution_count": null,
   "metadata": {},
   "outputs": [],
   "source": []
  },
  {
   "cell_type": "code",
   "execution_count": 63,
   "metadata": {},
   "outputs": [
    {
     "name": "stdout",
     "output_type": "stream",
     "text": [
      "--\n",
      "[[12, 2, 1, 8], [13, 0, 1, 2, 14], [2, 12, 11, 16, 15], [12, 8, 7, 10, 9, 11], [17, 18, 3, 6], [8, 1, 0, 4, 5, 7], [10, 3, 6, 5, 7], [19, 20, 6, 5, 4], [22, 4, 0, 21], [3, 23, 24, 9, 10], [9, 25, 26, 11]]\n",
      "--\n",
      "[[ 0.88333333  2.25      ]\n",
      " [ 1.5         2.62      ]\n",
      " [ 1.5         3.375     ]\n",
      " [ 2.93333333  1.3       ]\n",
      " [ 1.52596154  1.47884615]\n",
      " [ 2.187       1.8314    ]\n",
      " [ 2.475       1.025     ]\n",
      " [ 2.36290323  2.2183871 ]\n",
      " [ 2.25        2.32      ]\n",
      " [ 2.75        2.3       ]\n",
      " [ 2.61595745  2.25212766]\n",
      " [ 2.75        4.25      ]\n",
      " [ 2.25        3.75      ]\n",
      " [-2.11666667  2.25      ]\n",
      " [-1.18328157  4.71664079]\n",
      " [-1.18328157  4.71664079]\n",
      " [ 4.41410059  6.74615088]\n",
      " [ 1.74739312 -1.8854275 ]\n",
      " [ 5.93333333  1.3       ]\n",
      " [ 0.79835466 -1.43158135]\n",
      " [ 1.74739312 -1.8854275 ]\n",
      " [-2.11666667  2.25      ]\n",
      " [ 0.79835466 -1.43158135]\n",
      " [ 5.93333333  1.3       ]\n",
      " [ 5.75        2.3       ]\n",
      " [ 5.75        2.3       ]\n",
      " [ 4.41410059  6.74615088]]\n",
      "27\n"
     ]
    }
   ],
   "source": [
    "regions, vertices = voronoi_finite_polygons_2d(vor)\n",
    "print (\"--\")\n",
    "print (regions)\n",
    "print (\"--\")\n",
    "print (vertices)\n",
    "print(len(vertices))"
   ]
  },
  {
   "cell_type": "code",
   "execution_count": 64,
   "metadata": {},
   "outputs": [
    {
     "ename": "NameError",
     "evalue": "name 'vor1' is not defined",
     "output_type": "error",
     "traceback": [
      "\u001b[1;31m---------------------------------------------------------------------------\u001b[0m",
      "\u001b[1;31mNameError\u001b[0m                                 Traceback (most recent call last)",
      "\u001b[1;32m<ipython-input-64-39cbb7f43fea>\u001b[0m in \u001b[0;36m<module>\u001b[1;34m\u001b[0m\n\u001b[1;32m----> 1\u001b[1;33m \u001b[0mvoronoi_plot_2d\u001b[0m\u001b[1;33m(\u001b[0m\u001b[0mvor1\u001b[0m\u001b[1;33m)\u001b[0m\u001b[1;33m\u001b[0m\u001b[1;33m\u001b[0m\u001b[0m\n\u001b[0m\u001b[0;32m      2\u001b[0m \u001b[0mplt\u001b[0m\u001b[1;33m.\u001b[0m\u001b[0mshow\u001b[0m\u001b[1;33m(\u001b[0m\u001b[1;33m)\u001b[0m\u001b[1;33m\u001b[0m\u001b[1;33m\u001b[0m\u001b[0m\n",
      "\u001b[1;31mNameError\u001b[0m: name 'vor1' is not defined"
     ]
    }
   ],
   "source": [
    "voronoi_plot_2d(vor1)\n",
    "plt.show()"
   ]
  },
  {
   "cell_type": "code",
   "execution_count": 65,
   "metadata": {},
   "outputs": [
    {
     "name": "stdout",
     "output_type": "stream",
     "text": [
      "s1.Line(point1=([2.25, 3.75]), point2=([1.5, 3.375]))\n",
      "s1.Line(point1=([1.5, 3.375]), point2=([1.5, 2.62]))\n",
      "\n",
      "s1.Line(point1=([-2.1166666666666663, 2.25]), point2=([0.8833333333333335, 2.25]))\n",
      "s1.Line(point1=([0.8833333333333335, 2.25]), point2=([1.5, 2.62]))\n",
      "s1.Line(point1=([1.5, 2.62]), point2=([1.5, 3.375]))\n",
      "\n",
      "s1.Line(point1=([1.5, 3.375]), point2=([2.25, 3.75]))\n",
      "s1.Line(point1=([2.25, 3.75]), point2=([2.75, 4.25]))\n",
      "s1.Line(point1=([2.75, 4.25]), point2=([4.414100588675687, 6.746150883013531]))\n",
      "\n",
      "s1.Line(point1=([2.25, 3.75]), point2=([2.25, 2.3200000000000003]))\n",
      "s1.Line(point1=([2.25, 2.3200000000000003]), point2=([2.3629032258064515, 2.2183870967741934]))\n",
      "s1.Line(point1=([2.3629032258064515, 2.2183870967741934]), point2=([2.6159574468085105, 2.252127659574468]))\n",
      "s1.Line(point1=([2.6159574468085105, 2.252127659574468]), point2=([2.75, 2.3]))\n",
      "\n",
      "s1.Line(point1=([1.7473931248910013, -1.8854275004359955]), point2=([5.933333333333334, 1.3]))\n",
      "s1.Line(point1=([5.933333333333334, 1.3]), point2=([2.9333333333333336, 1.3]))\n",
      "\n",
      "s1.Line(point1=([2.25, 2.3200000000000003]), point2=([1.5, 2.62]))\n",
      "s1.Line(point1=([1.5, 2.62]), point2=([0.8833333333333335, 2.25]))\n",
      "s1.Line(point1=([0.8833333333333335, 2.25]), point2=([1.5259615384615386, 1.478846153846154]))\n",
      "s1.Line(point1=([1.5259615384615386, 1.478846153846154]), point2=([2.1870000000000003, 1.8314]))\n",
      "\n",
      "s1.Line(point1=([2.6159574468085105, 2.252127659574468]), point2=([2.9333333333333336, 1.3]))\n",
      "s1.Line(point1=([2.9333333333333336, 1.3]), point2=([2.475, 1.0250000000000001]))\n",
      "s1.Line(point1=([2.475, 1.0250000000000001]), point2=([2.1870000000000003, 1.8314]))\n",
      "\n",
      "s1.Line(point1=([0.7983546633525397, -1.4315813465898417]), point2=([1.7473931248910013, -1.8854275004359955]))\n",
      "s1.Line(point1=([1.7473931248910013, -1.8854275004359955]), point2=([2.475, 1.0250000000000001]))\n",
      "s1.Line(point1=([2.475, 1.0250000000000001]), point2=([2.1870000000000003, 1.8314]))\n",
      "\n",
      "s1.Line(point1=([0.7983546633525397, -1.4315813465898417]), point2=([1.5259615384615386, 1.478846153846154]))\n",
      "s1.Line(point1=([1.5259615384615386, 1.478846153846154]), point2=([0.8833333333333335, 2.25]))\n",
      "\n",
      "s1.Line(point1=([2.9333333333333336, 1.3]), point2=([5.933333333333334, 1.3]))\n",
      "s1.Line(point1=([5.933333333333334, 1.3]), point2=([5.75, 2.3]))\n",
      "s1.Line(point1=([5.75, 2.3]), point2=([2.75, 2.3]))\n",
      "\n",
      "s1.Line(point1=([2.75, 2.3]), point2=([5.75, 2.3]))\n",
      "s1.Line(point1=([5.75, 2.3]), point2=([4.414100588675687, 6.746150883013531]))\n",
      "\n"
     ]
    }
   ],
   "source": [
    "for i in regions:\n",
    "    for j in range(0,len(i)-2):\n",
    "        p1 = vertices[i[j]]\n",
    "        p2 = vertices[i[j+1]]\n",
    "        p1 = [str(x) for x in p1]\n",
    "        p2 = [str(x) for x in p2]\n",
    "        sp1 = ' '.join(p1).strip().split()\n",
    "        sp1 = [float(x) for x in sp1]\n",
    "        sp1 = str(sp1)\n",
    "        sp2 = ' '.join(p2).strip().split()\n",
    "        sp2 = [float(x) for x in sp2]\n",
    "        sp2 = str(sp2)\n",
    "#         sp1 = str(p1).replace(\" \", \",\")\n",
    "#         sp2 = str(p2).replace(\" \", \",\")\n",
    "#         sp1 = sp1[1:]\n",
    "#         sp2 = sp2[1:]\n",
    "#         if sp1[0]==',':\n",
    "#             sp1 = sp1[1:]\n",
    "#         if sp2[0]==',':\n",
    "#             sp2 = sp2[1:]\n",
    "#         sp1 = '[' + sp1\n",
    "#         sp2 = '[' + sp2\n",
    "        print(\"s1.Line(point1=(\" + sp1 + \"), point2=(\" + sp2 + \"))\")\n",
    "    print()"
   ]
  },
  {
   "cell_type": "code",
   "execution_count": null,
   "metadata": {},
   "outputs": [],
   "source": []
  }
 ],
 "metadata": {
  "kernelspec": {
   "display_name": "Python 3",
   "language": "python",
   "name": "python3"
  },
  "language_info": {
   "codemirror_mode": {
    "name": "ipython",
    "version": 3
   },
   "file_extension": ".py",
   "mimetype": "text/x-python",
   "name": "python",
   "nbconvert_exporter": "python",
   "pygments_lexer": "ipython3",
   "version": "3.6.7"
  }
 },
 "nbformat": 4,
 "nbformat_minor": 2
}
