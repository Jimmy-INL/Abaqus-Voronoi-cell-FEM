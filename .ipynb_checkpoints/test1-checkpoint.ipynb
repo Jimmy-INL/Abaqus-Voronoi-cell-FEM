{
 "cells": [
  {
   "cell_type": "code",
   "execution_count": 14,
   "metadata": {},
   "outputs": [],
   "source": [
    "from pyhull.voronoi import VoronoiTess"
   ]
  },
  {
   "cell_type": "code",
   "execution_count": 17,
   "metadata": {},
   "outputs": [],
   "source": [
    "#pts = [[2,3], [1, 3], [3, 4]]\n",
    "pts = [[-0.5, -0.5], [-0.5, 0.5], [0.5, -0.5], [0.5, 0.5], [0,0]]"
   ]
  },
  {
   "cell_type": "code",
   "execution_count": 18,
   "metadata": {},
   "outputs": [
    {
     "ename": "IndexError",
     "evalue": "pop from empty list",
     "output_type": "error",
     "traceback": [
      "\u001b[1;31m---------------------------------------------------------------------------\u001b[0m",
      "\u001b[1;31mIndexError\u001b[0m                                Traceback (most recent call last)",
      "\u001b[1;32m<ipython-input-18-6dd2b303aa0b>\u001b[0m in \u001b[0;36m<module>\u001b[1;34m\u001b[0m\n\u001b[1;32m----> 1\u001b[1;33m \u001b[0mv\u001b[0m \u001b[1;33m=\u001b[0m \u001b[0mVoronoiTess\u001b[0m\u001b[1;33m(\u001b[0m\u001b[0mpts\u001b[0m\u001b[1;33m)\u001b[0m\u001b[1;33m\u001b[0m\u001b[1;33m\u001b[0m\u001b[0m\n\u001b[0m\u001b[0;32m      2\u001b[0m \u001b[0ma\u001b[0m \u001b[1;33m=\u001b[0m \u001b[0mv\u001b[0m\u001b[1;33m.\u001b[0m\u001b[0mvertices\u001b[0m\u001b[1;33m\u001b[0m\u001b[1;33m\u001b[0m\u001b[0m\n\u001b[0;32m      3\u001b[0m \u001b[0mb\u001b[0m \u001b[1;33m=\u001b[0m \u001b[0mv\u001b[0m\u001b[1;33m.\u001b[0m\u001b[0mregions\u001b[0m\u001b[1;33m\u001b[0m\u001b[1;33m\u001b[0m\u001b[0m\n",
      "\u001b[1;32mc:\\users\\akash\\appdata\\local\\programs\\python\\python36\\lib\\site-packages\\pyhull\\voronoi.py\u001b[0m in \u001b[0;36m__init__\u001b[1;34m(self, points, add_bounding_box)\u001b[0m\n\u001b[0;32m     79\u001b[0m         \u001b[0moutput\u001b[0m \u001b[1;33m=\u001b[0m \u001b[0mqvoronoi\u001b[0m\u001b[1;33m(\u001b[0m\u001b[1;34m\"o Fv\"\u001b[0m\u001b[1;33m,\u001b[0m \u001b[0mself\u001b[0m\u001b[1;33m.\u001b[0m\u001b[0mpoints\u001b[0m\u001b[1;33m)\u001b[0m\u001b[1;33m\u001b[0m\u001b[1;33m\u001b[0m\u001b[0m\n\u001b[0;32m     80\u001b[0m         \u001b[0moutput\u001b[0m\u001b[1;33m.\u001b[0m\u001b[0mpop\u001b[0m\u001b[1;33m(\u001b[0m\u001b[1;36m0\u001b[0m\u001b[1;33m)\u001b[0m\u001b[1;33m\u001b[0m\u001b[1;33m\u001b[0m\u001b[0m\n\u001b[1;32m---> 81\u001b[1;33m         \u001b[0mnvertices\u001b[0m\u001b[1;33m,\u001b[0m \u001b[0mnregions\u001b[0m\u001b[1;33m,\u001b[0m \u001b[0mi\u001b[0m \u001b[1;33m=\u001b[0m \u001b[1;33m[\u001b[0m\u001b[0mint\u001b[0m\u001b[1;33m(\u001b[0m\u001b[0mi\u001b[0m\u001b[1;33m)\u001b[0m \u001b[1;32mfor\u001b[0m \u001b[0mi\u001b[0m \u001b[1;32min\u001b[0m \u001b[0moutput\u001b[0m\u001b[1;33m.\u001b[0m\u001b[0mpop\u001b[0m\u001b[1;33m(\u001b[0m\u001b[1;36m0\u001b[0m\u001b[1;33m)\u001b[0m\u001b[1;33m.\u001b[0m\u001b[0msplit\u001b[0m\u001b[1;33m(\u001b[0m\u001b[1;33m)\u001b[0m\u001b[1;33m]\u001b[0m\u001b[1;33m\u001b[0m\u001b[1;33m\u001b[0m\u001b[0m\n\u001b[0m\u001b[0;32m     82\u001b[0m         self.vertices = [[float(j) for j in output.pop(0).split()]\n\u001b[0;32m     83\u001b[0m                          for i in range(nvertices)]\n",
      "\u001b[1;31mIndexError\u001b[0m: pop from empty list"
     ]
    }
   ],
   "source": [
    "v = VoronoiTess(pts)\n",
    "a = v.vertices\n",
    "b = v.regions"
   ]
  },
  {
   "cell_type": "code",
   "execution_count": 10,
   "metadata": {},
   "outputs": [
    {
     "name": "stdout",
     "output_type": "stream",
     "text": [
      "[[-10.101, -10.101], [1.5, 0.5], [1.5, 4.0], [8.5, 7.5]]\n",
      "[[3, 1, 2], [2, 0, 1], [3, 0, 2], [3, 0, 1]]\n"
     ]
    }
   ],
   "source": [
    "print(a)\n",
    "print(b)"
   ]
  },
  {
   "cell_type": "code",
   "execution_count": null,
   "metadata": {},
   "outputs": [],
   "source": [
    "# -*- coding: mbcs -*-\n",
    "# Do not delete the following import lines\n",
    "from abaqus import *\n",
    "from abaqusConstants import *\n",
    "import __main__\n",
    "\n",
    "def Macro1():\n",
    "    import section\n",
    "    import regionToolset\n",
    "    import displayGroupMdbToolset as dgm\n",
    "    import part\n",
    "    import material\n",
    "    import assembly\n",
    "    import step\n",
    "    import interaction\n",
    "    import load\n",
    "    import mesh\n",
    "    import optimization\n",
    "    import job\n",
    "    import sketch\n",
    "    import visualization\n",
    "    import xyPlot\n",
    "    import displayGroupOdbToolset as dgo\n",
    "    import connectorBehavior\n",
    "    s = mdb.models['Model-1'].ConstrainedSketch(name='__profile__', \n",
    "        sheetSize=200.0)\n",
    "    g, v, d, c = s.geometry, s.vertices, s.dimensions, s.constraints\n",
    "    s.setPrimaryObject(option=STANDALONE)\n",
    "    s.rectangle(point1=(0.0, 0.0), point2=(25.0, 20.0))\n",
    "    p = mdb.models['Model-1'].Part(name='Part-1', dimensionality=TWO_D_PLANAR, \n",
    "        type=DEFORMABLE_BODY)\n",
    "    p = mdb.models['Model-1'].parts['Part-1']\n",
    "    p.BaseShell(sketch=s)\n",
    "    s.unsetPrimaryObject()\n",
    "    p = mdb.models['Model-1'].parts['Part-1']\n",
    "    session.viewports['Viewport: 1'].setValues(displayedObject=p)\n",
    "    del mdb.models['Model-1'].sketches['__profile__']\n",
    "    p = mdb.models['Model-1'].parts['Part-1']\n",
    "    f, e, d1 = p.faces, p.edges, p.datums\n",
    "    t = p.MakeSketchTransform(sketchPlane=f[0], sketchPlaneSide=SIDE1, origin=(\n",
    "        12.5, 10.0, 0.0))\n",
    "    s1 = mdb.models['Model-1'].ConstrainedSketch(name='__profile__', \n",
    "        sheetSize=64.03, gridSpacing=1.6, transform=t)\n",
    "    g, v, d, c = s1.geometry, s1.vertices, s1.dimensions, s1.constraints\n",
    "    s1.setPrimaryObject(option=SUPERIMPOSE)\n",
    "    p = mdb.models['Model-1'].parts['Part-1']\n",
    "    p.projectReferencesOntoSketch(sketch=s1, filter=COPLANAR_EDGES)\n",
    "    s1.Line(point1=(1.5,4.0), point2=(-8.4, 0.0))\n",
    "    s1.Line(point1=(-8.4, 0.0), point2=(4.4, 0.0))\n",
    "    s1.Line(point1=(4.4, 0.0), point2=(4.4, 5.6))\n",
    "    s1.Line(point1=(4.4, 5.6), point2=(12.5, 5.6))\n",
    "\n",
    "    p = mdb.models['Model-1'].parts['Part-1']\n",
    "    f = p.faces\n",
    "    pickedFaces = f.getSequenceFromMask(mask=('[#1 ]', ), )\n",
    "    e1, d2 = p.edges, p.datums\n",
    "    p.PartitionFaceBySketch(faces=pickedFaces, sketch=s1)\n",
    "    s1.unsetPrimaryObject()\n",
    "    del mdb.models['Model-1'].sketches['__profile__']\n",
    "\n",
    "\n"
   ]
  },
  {
   "cell_type": "code",
   "execution_count": null,
   "metadata": {},
   "outputs": [],
   "source": []
  }
 ],
 "metadata": {
  "kernelspec": {
   "display_name": "Python 3",
   "language": "python",
   "name": "python3"
  },
  "language_info": {
   "codemirror_mode": {
    "name": "ipython",
    "version": 3
   },
   "file_extension": ".py",
   "mimetype": "text/x-python",
   "name": "python",
   "nbconvert_exporter": "python",
   "pygments_lexer": "ipython3",
   "version": "3.6.7"
  }
 },
 "nbformat": 4,
 "nbformat_minor": 2
}
